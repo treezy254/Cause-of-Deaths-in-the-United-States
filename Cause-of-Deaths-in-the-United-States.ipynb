{
  "nbformat": 4,
  "nbformat_minor": 0,
  "metadata": {
    "colab": {
      "provenance": [],
      "authorship_tag": "ABX9TyOjIBz+wF4FrEbsVgAMqGGk",
      "include_colab_link": true
    },
    "kernelspec": {
      "name": "python3",
      "display_name": "Python 3"
    },
    "language_info": {
      "name": "python"
    }
  },
  "cells": [
    {
      "cell_type": "markdown",
      "metadata": {
        "id": "view-in-github",
        "colab_type": "text"
      },
      "source": [
        "<a href=\"https://colab.research.google.com/github/treezy254/Cause-of-Deaths-in-the-United-States/blob/master/Cause-of-Deaths-in-the-United-States.ipynb\" target=\"_parent\"><img src=\"https://colab.research.google.com/assets/colab-badge.svg\" alt=\"Open In Colab\"/></a>"
      ]
    },
    {
      "cell_type": "code",
      "execution_count": 1,
      "metadata": {
        "colab": {
          "base_uri": "https://localhost:8080/",
          "height": 87
        },
        "id": "6UoD67MGs_tN",
        "outputId": "a6547629-e6e9-48d7-deff-78ca2f07ac52"
      },
      "outputs": [
        {
          "output_type": "execute_result",
          "data": {
            "text/plain": [
              "'\\nWhat is the total number of records in the dataset?\\n• What were the causes of death in this data set?\\n• What was the total number of deaths in the United \\nStates from 1999 to 2015?\\n• What is the number of deaths per each year from 1999 \\nto 2015?\\n• Which ten states had the highest number of deaths \\noverall?\\n• What were the top causes of deaths in the United States \\nduring this period?\\n'"
            ],
            "application/vnd.google.colaboratory.intrinsic+json": {
              "type": "string"
            }
          },
          "metadata": {},
          "execution_count": 1
        }
      ],
      "source": [
        "'''\n",
        "What is the total number of records in the dataset?\n",
        "  ANS: 10868 rows, 5 columns\n",
        "\n",
        "• What were the causes of death in this data set? ---+\n",
        "  Ans : 'Unintentional injuries', \"Alzheimer's disease\", 'Stroke', 'CLRD',\n",
        "       'Diabetes', 'Heart disease', 'Influenza and pneumonia', 'Suicide',\n",
        "       'Cancer', 'Kidney disease\n",
        "\n",
        "• What was the total number of deaths in the United \n",
        "States from 1999 to 2017? ---+\n",
        "\n",
        "  Ans: 168,018,304\n",
        "\n",
        "• What is the number of deaths per each year from 1999 \n",
        "to 2017? ---+\n",
        "  ANS: 1999    71930\n",
        "2003    68864\n",
        "2002    68797\n",
        "2000    68426\n",
        "2001    68234\n",
        "2004    64999\n",
        "2005    64916\n",
        "2006    64871\n",
        "2017    62797\n",
        "2007    61690\n",
        "2016    61573\n",
        "2015    61289\n",
        "2008    60709\n",
        "2013    60299\n",
        "2011    59772\n",
        "2012    59371\n",
        "2009    59206\n",
        "2010    58641\n",
        "2014    58412\n",
        "\n",
        "• Which ten states had the highest number of deaths \n",
        "overall? ---+\n",
        "  ANS: State\n",
        "California              71930\n",
        "New York                58987\n",
        "Florida                 51434\n",
        "Texas                   45346\n",
        "Pennsylvania            41707\n",
        "Illinois                33387\n",
        "Ohio                    33192\n",
        "Michigan                27693\n",
        "New Jersey              23724\n",
        "North Carolina          19723\n",
        "\n",
        "• What were the top causes of deaths in the United States \n",
        "during this period? ---+\n",
        "  \n",
        "  ANS: \n",
        "    Cause Name\n",
        "    Heart disease              71930\n",
        "    Cancer                     59629\n",
        "    Stroke                     18185\n",
        "'''\n"
      ]
    },
    {
      "cell_type": "code",
      "source": [
        "import pandas as pd\n",
        "import numpy as np\n",
        "import matplotlib.pyplot as plt \n",
        "\n",
        "data = pd.read_csv('NCHS.csv', index_col=0)\n",
        "data.head()"
      ],
      "metadata": {
        "colab": {
          "base_uri": "https://localhost:8080/",
          "height": 238
        },
        "id": "zEda_4PcvseI",
        "outputId": "16daff5d-ccf8-48da-c5da-0b02697d5766"
      },
      "execution_count": 8,
      "outputs": [
        {
          "output_type": "execute_result",
          "data": {
            "text/plain": [
              "                                         113 Cause Name  \\\n",
              "Year                                                      \n",
              "2017  Accidents (unintentional injuries) (V01-X59,Y8...   \n",
              "2017  Accidents (unintentional injuries) (V01-X59,Y8...   \n",
              "2017  Accidents (unintentional injuries) (V01-X59,Y8...   \n",
              "2017  Accidents (unintentional injuries) (V01-X59,Y8...   \n",
              "2017  Accidents (unintentional injuries) (V01-X59,Y8...   \n",
              "\n",
              "                  Cause Name          State   Deaths Age-adjusted Death Rate  \n",
              "Year                                                                          \n",
              "2017  Unintentional injuries  United States  169,936                    49.4  \n",
              "2017  Unintentional injuries        Alabama    2,703                    53.8  \n",
              "2017  Unintentional injuries         Alaska      436                    63.7  \n",
              "2017  Unintentional injuries        Arizona    4,184                    56.2  \n",
              "2017  Unintentional injuries       Arkansas    1,625                    51.8  "
            ],
            "text/html": [
              "\n",
              "  <div id=\"df-e4d5f7cc-a197-4dbf-804c-2512168d5a68\">\n",
              "    <div class=\"colab-df-container\">\n",
              "      <div>\n",
              "<style scoped>\n",
              "    .dataframe tbody tr th:only-of-type {\n",
              "        vertical-align: middle;\n",
              "    }\n",
              "\n",
              "    .dataframe tbody tr th {\n",
              "        vertical-align: top;\n",
              "    }\n",
              "\n",
              "    .dataframe thead th {\n",
              "        text-align: right;\n",
              "    }\n",
              "</style>\n",
              "<table border=\"1\" class=\"dataframe\">\n",
              "  <thead>\n",
              "    <tr style=\"text-align: right;\">\n",
              "      <th></th>\n",
              "      <th>113 Cause Name</th>\n",
              "      <th>Cause Name</th>\n",
              "      <th>State</th>\n",
              "      <th>Deaths</th>\n",
              "      <th>Age-adjusted Death Rate</th>\n",
              "    </tr>\n",
              "    <tr>\n",
              "      <th>Year</th>\n",
              "      <th></th>\n",
              "      <th></th>\n",
              "      <th></th>\n",
              "      <th></th>\n",
              "      <th></th>\n",
              "    </tr>\n",
              "  </thead>\n",
              "  <tbody>\n",
              "    <tr>\n",
              "      <th>2017</th>\n",
              "      <td>Accidents (unintentional injuries) (V01-X59,Y8...</td>\n",
              "      <td>Unintentional injuries</td>\n",
              "      <td>United States</td>\n",
              "      <td>169,936</td>\n",
              "      <td>49.4</td>\n",
              "    </tr>\n",
              "    <tr>\n",
              "      <th>2017</th>\n",
              "      <td>Accidents (unintentional injuries) (V01-X59,Y8...</td>\n",
              "      <td>Unintentional injuries</td>\n",
              "      <td>Alabama</td>\n",
              "      <td>2,703</td>\n",
              "      <td>53.8</td>\n",
              "    </tr>\n",
              "    <tr>\n",
              "      <th>2017</th>\n",
              "      <td>Accidents (unintentional injuries) (V01-X59,Y8...</td>\n",
              "      <td>Unintentional injuries</td>\n",
              "      <td>Alaska</td>\n",
              "      <td>436</td>\n",
              "      <td>63.7</td>\n",
              "    </tr>\n",
              "    <tr>\n",
              "      <th>2017</th>\n",
              "      <td>Accidents (unintentional injuries) (V01-X59,Y8...</td>\n",
              "      <td>Unintentional injuries</td>\n",
              "      <td>Arizona</td>\n",
              "      <td>4,184</td>\n",
              "      <td>56.2</td>\n",
              "    </tr>\n",
              "    <tr>\n",
              "      <th>2017</th>\n",
              "      <td>Accidents (unintentional injuries) (V01-X59,Y8...</td>\n",
              "      <td>Unintentional injuries</td>\n",
              "      <td>Arkansas</td>\n",
              "      <td>1,625</td>\n",
              "      <td>51.8</td>\n",
              "    </tr>\n",
              "  </tbody>\n",
              "</table>\n",
              "</div>\n",
              "      <button class=\"colab-df-convert\" onclick=\"convertToInteractive('df-e4d5f7cc-a197-4dbf-804c-2512168d5a68')\"\n",
              "              title=\"Convert this dataframe to an interactive table.\"\n",
              "              style=\"display:none;\">\n",
              "        \n",
              "  <svg xmlns=\"http://www.w3.org/2000/svg\" height=\"24px\"viewBox=\"0 0 24 24\"\n",
              "       width=\"24px\">\n",
              "    <path d=\"M0 0h24v24H0V0z\" fill=\"none\"/>\n",
              "    <path d=\"M18.56 5.44l.94 2.06.94-2.06 2.06-.94-2.06-.94-.94-2.06-.94 2.06-2.06.94zm-11 1L8.5 8.5l.94-2.06 2.06-.94-2.06-.94L8.5 2.5l-.94 2.06-2.06.94zm10 10l.94 2.06.94-2.06 2.06-.94-2.06-.94-.94-2.06-.94 2.06-2.06.94z\"/><path d=\"M17.41 7.96l-1.37-1.37c-.4-.4-.92-.59-1.43-.59-.52 0-1.04.2-1.43.59L10.3 9.45l-7.72 7.72c-.78.78-.78 2.05 0 2.83L4 21.41c.39.39.9.59 1.41.59.51 0 1.02-.2 1.41-.59l7.78-7.78 2.81-2.81c.8-.78.8-2.07 0-2.86zM5.41 20L4 18.59l7.72-7.72 1.47 1.35L5.41 20z\"/>\n",
              "  </svg>\n",
              "      </button>\n",
              "      \n",
              "  <style>\n",
              "    .colab-df-container {\n",
              "      display:flex;\n",
              "      flex-wrap:wrap;\n",
              "      gap: 12px;\n",
              "    }\n",
              "\n",
              "    .colab-df-convert {\n",
              "      background-color: #E8F0FE;\n",
              "      border: none;\n",
              "      border-radius: 50%;\n",
              "      cursor: pointer;\n",
              "      display: none;\n",
              "      fill: #1967D2;\n",
              "      height: 32px;\n",
              "      padding: 0 0 0 0;\n",
              "      width: 32px;\n",
              "    }\n",
              "\n",
              "    .colab-df-convert:hover {\n",
              "      background-color: #E2EBFA;\n",
              "      box-shadow: 0px 1px 2px rgba(60, 64, 67, 0.3), 0px 1px 3px 1px rgba(60, 64, 67, 0.15);\n",
              "      fill: #174EA6;\n",
              "    }\n",
              "\n",
              "    [theme=dark] .colab-df-convert {\n",
              "      background-color: #3B4455;\n",
              "      fill: #D2E3FC;\n",
              "    }\n",
              "\n",
              "    [theme=dark] .colab-df-convert:hover {\n",
              "      background-color: #434B5C;\n",
              "      box-shadow: 0px 1px 3px 1px rgba(0, 0, 0, 0.15);\n",
              "      filter: drop-shadow(0px 1px 2px rgba(0, 0, 0, 0.3));\n",
              "      fill: #FFFFFF;\n",
              "    }\n",
              "  </style>\n",
              "\n",
              "      <script>\n",
              "        const buttonEl =\n",
              "          document.querySelector('#df-e4d5f7cc-a197-4dbf-804c-2512168d5a68 button.colab-df-convert');\n",
              "        buttonEl.style.display =\n",
              "          google.colab.kernel.accessAllowed ? 'block' : 'none';\n",
              "\n",
              "        async function convertToInteractive(key) {\n",
              "          const element = document.querySelector('#df-e4d5f7cc-a197-4dbf-804c-2512168d5a68');\n",
              "          const dataTable =\n",
              "            await google.colab.kernel.invokeFunction('convertToInteractive',\n",
              "                                                     [key], {});\n",
              "          if (!dataTable) return;\n",
              "\n",
              "          const docLinkHtml = 'Like what you see? Visit the ' +\n",
              "            '<a target=\"_blank\" href=https://colab.research.google.com/notebooks/data_table.ipynb>data table notebook</a>'\n",
              "            + ' to learn more about interactive tables.';\n",
              "          element.innerHTML = '';\n",
              "          dataTable['output_type'] = 'display_data';\n",
              "          await google.colab.output.renderOutput(dataTable, element);\n",
              "          const docLink = document.createElement('div');\n",
              "          docLink.innerHTML = docLinkHtml;\n",
              "          element.appendChild(docLink);\n",
              "        }\n",
              "      </script>\n",
              "    </div>\n",
              "  </div>\n",
              "  "
            ]
          },
          "metadata": {},
          "execution_count": 8
        }
      ]
    },
    {
      "cell_type": "code",
      "source": [
        "data.describe()"
      ],
      "metadata": {
        "colab": {
          "base_uri": "https://localhost:8080/",
          "height": 175
        },
        "id": "KVsnFEezv37U",
        "outputId": "7e72fec5-b8bf-4586-9fcd-aad2fd8a3198"
      },
      "execution_count": 9,
      "outputs": [
        {
          "output_type": "execute_result",
          "data": {
            "text/plain": [
              "                                           113 Cause Name  \\\n",
              "count                                               10868   \n",
              "unique                                                 11   \n",
              "top     Accidents (unintentional injuries) (V01-X59,Y8...   \n",
              "freq                                                  988   \n",
              "\n",
              "                    Cause Name          State Deaths Age-adjusted Death Rate  \n",
              "count                    10868          10868  10868                   10868  \n",
              "unique                      11             52   5964                    2490  \n",
              "top     Unintentional injuries  United States    343                    19.2  \n",
              "freq                       988            209     15                      40  "
            ],
            "text/html": [
              "\n",
              "  <div id=\"df-f60a34f3-2256-4c49-acbe-bf41a0056e31\">\n",
              "    <div class=\"colab-df-container\">\n",
              "      <div>\n",
              "<style scoped>\n",
              "    .dataframe tbody tr th:only-of-type {\n",
              "        vertical-align: middle;\n",
              "    }\n",
              "\n",
              "    .dataframe tbody tr th {\n",
              "        vertical-align: top;\n",
              "    }\n",
              "\n",
              "    .dataframe thead th {\n",
              "        text-align: right;\n",
              "    }\n",
              "</style>\n",
              "<table border=\"1\" class=\"dataframe\">\n",
              "  <thead>\n",
              "    <tr style=\"text-align: right;\">\n",
              "      <th></th>\n",
              "      <th>113 Cause Name</th>\n",
              "      <th>Cause Name</th>\n",
              "      <th>State</th>\n",
              "      <th>Deaths</th>\n",
              "      <th>Age-adjusted Death Rate</th>\n",
              "    </tr>\n",
              "  </thead>\n",
              "  <tbody>\n",
              "    <tr>\n",
              "      <th>count</th>\n",
              "      <td>10868</td>\n",
              "      <td>10868</td>\n",
              "      <td>10868</td>\n",
              "      <td>10868</td>\n",
              "      <td>10868</td>\n",
              "    </tr>\n",
              "    <tr>\n",
              "      <th>unique</th>\n",
              "      <td>11</td>\n",
              "      <td>11</td>\n",
              "      <td>52</td>\n",
              "      <td>5964</td>\n",
              "      <td>2490</td>\n",
              "    </tr>\n",
              "    <tr>\n",
              "      <th>top</th>\n",
              "      <td>Accidents (unintentional injuries) (V01-X59,Y8...</td>\n",
              "      <td>Unintentional injuries</td>\n",
              "      <td>United States</td>\n",
              "      <td>343</td>\n",
              "      <td>19.2</td>\n",
              "    </tr>\n",
              "    <tr>\n",
              "      <th>freq</th>\n",
              "      <td>988</td>\n",
              "      <td>988</td>\n",
              "      <td>209</td>\n",
              "      <td>15</td>\n",
              "      <td>40</td>\n",
              "    </tr>\n",
              "  </tbody>\n",
              "</table>\n",
              "</div>\n",
              "      <button class=\"colab-df-convert\" onclick=\"convertToInteractive('df-f60a34f3-2256-4c49-acbe-bf41a0056e31')\"\n",
              "              title=\"Convert this dataframe to an interactive table.\"\n",
              "              style=\"display:none;\">\n",
              "        \n",
              "  <svg xmlns=\"http://www.w3.org/2000/svg\" height=\"24px\"viewBox=\"0 0 24 24\"\n",
              "       width=\"24px\">\n",
              "    <path d=\"M0 0h24v24H0V0z\" fill=\"none\"/>\n",
              "    <path d=\"M18.56 5.44l.94 2.06.94-2.06 2.06-.94-2.06-.94-.94-2.06-.94 2.06-2.06.94zm-11 1L8.5 8.5l.94-2.06 2.06-.94-2.06-.94L8.5 2.5l-.94 2.06-2.06.94zm10 10l.94 2.06.94-2.06 2.06-.94-2.06-.94-.94-2.06-.94 2.06-2.06.94z\"/><path d=\"M17.41 7.96l-1.37-1.37c-.4-.4-.92-.59-1.43-.59-.52 0-1.04.2-1.43.59L10.3 9.45l-7.72 7.72c-.78.78-.78 2.05 0 2.83L4 21.41c.39.39.9.59 1.41.59.51 0 1.02-.2 1.41-.59l7.78-7.78 2.81-2.81c.8-.78.8-2.07 0-2.86zM5.41 20L4 18.59l7.72-7.72 1.47 1.35L5.41 20z\"/>\n",
              "  </svg>\n",
              "      </button>\n",
              "      \n",
              "  <style>\n",
              "    .colab-df-container {\n",
              "      display:flex;\n",
              "      flex-wrap:wrap;\n",
              "      gap: 12px;\n",
              "    }\n",
              "\n",
              "    .colab-df-convert {\n",
              "      background-color: #E8F0FE;\n",
              "      border: none;\n",
              "      border-radius: 50%;\n",
              "      cursor: pointer;\n",
              "      display: none;\n",
              "      fill: #1967D2;\n",
              "      height: 32px;\n",
              "      padding: 0 0 0 0;\n",
              "      width: 32px;\n",
              "    }\n",
              "\n",
              "    .colab-df-convert:hover {\n",
              "      background-color: #E2EBFA;\n",
              "      box-shadow: 0px 1px 2px rgba(60, 64, 67, 0.3), 0px 1px 3px 1px rgba(60, 64, 67, 0.15);\n",
              "      fill: #174EA6;\n",
              "    }\n",
              "\n",
              "    [theme=dark] .colab-df-convert {\n",
              "      background-color: #3B4455;\n",
              "      fill: #D2E3FC;\n",
              "    }\n",
              "\n",
              "    [theme=dark] .colab-df-convert:hover {\n",
              "      background-color: #434B5C;\n",
              "      box-shadow: 0px 1px 3px 1px rgba(0, 0, 0, 0.15);\n",
              "      filter: drop-shadow(0px 1px 2px rgba(0, 0, 0, 0.3));\n",
              "      fill: #FFFFFF;\n",
              "    }\n",
              "  </style>\n",
              "\n",
              "      <script>\n",
              "        const buttonEl =\n",
              "          document.querySelector('#df-f60a34f3-2256-4c49-acbe-bf41a0056e31 button.colab-df-convert');\n",
              "        buttonEl.style.display =\n",
              "          google.colab.kernel.accessAllowed ? 'block' : 'none';\n",
              "\n",
              "        async function convertToInteractive(key) {\n",
              "          const element = document.querySelector('#df-f60a34f3-2256-4c49-acbe-bf41a0056e31');\n",
              "          const dataTable =\n",
              "            await google.colab.kernel.invokeFunction('convertToInteractive',\n",
              "                                                     [key], {});\n",
              "          if (!dataTable) return;\n",
              "\n",
              "          const docLinkHtml = 'Like what you see? Visit the ' +\n",
              "            '<a target=\"_blank\" href=https://colab.research.google.com/notebooks/data_table.ipynb>data table notebook</a>'\n",
              "            + ' to learn more about interactive tables.';\n",
              "          element.innerHTML = '';\n",
              "          dataTable['output_type'] = 'display_data';\n",
              "          await google.colab.output.renderOutput(dataTable, element);\n",
              "          const docLink = document.createElement('div');\n",
              "          docLink.innerHTML = docLinkHtml;\n",
              "          element.appendChild(docLink);\n",
              "        }\n",
              "      </script>\n",
              "    </div>\n",
              "  </div>\n",
              "  "
            ]
          },
          "metadata": {},
          "execution_count": 9
        }
      ]
    },
    {
      "cell_type": "code",
      "source": [
        "data.isnull().any()"
      ],
      "metadata": {
        "colab": {
          "base_uri": "https://localhost:8080/"
        },
        "id": "sEuJUGN1x4Rl",
        "outputId": "17be1276-b2fe-4876-b30b-f4e06b496d0a"
      },
      "execution_count": 23,
      "outputs": [
        {
          "output_type": "execute_result",
          "data": {
            "text/plain": [
              "113 Cause Name             False\n",
              "Cause Name                 False\n",
              "State                      False\n",
              "Deaths                     False\n",
              "Age-adjusted Death Rate    False\n",
              "dtype: bool"
            ]
          },
          "metadata": {},
          "execution_count": 23
        }
      ]
    },
    {
      "cell_type": "code",
      "source": [
        "data.shape"
      ],
      "metadata": {
        "colab": {
          "base_uri": "https://localhost:8080/"
        },
        "id": "J1NLrw1fwGym",
        "outputId": "4e9223db-5e86-4ea7-e5de-0a8907480658"
      },
      "execution_count": 10,
      "outputs": [
        {
          "output_type": "execute_result",
          "data": {
            "text/plain": [
              "(10868, 5)"
            ]
          },
          "metadata": {},
          "execution_count": 10
        }
      ]
    },
    {
      "cell_type": "code",
      "source": [
        "causes = data['Cause Name'].unique()\n",
        "causes"
      ],
      "metadata": {
        "colab": {
          "base_uri": "https://localhost:8080/"
        },
        "id": "vY50XiOKwOnu",
        "outputId": "974cfd00-a4cb-4f3e-e23b-8a9af408acf6"
      },
      "execution_count": 89,
      "outputs": [
        {
          "output_type": "execute_result",
          "data": {
            "text/plain": [
              "array(['Unintentional injuries', 'All causes', \"Alzheimer's disease\",\n",
              "       'Stroke', 'CLRD', 'Diabetes', 'Heart disease',\n",
              "       'Influenza and pneumonia', 'Suicide', 'Cancer', 'Kidney disease'],\n",
              "      dtype=object)"
            ]
          },
          "metadata": {},
          "execution_count": 89
        }
      ]
    },
    {
      "cell_type": "code",
      "source": [
        "data = data[data[\"Cause Name\"] != \"All causes\"]\n",
        "causes = data['Cause Name'].unique()\n",
        "causes"
      ],
      "metadata": {
        "colab": {
          "base_uri": "https://localhost:8080/"
        },
        "id": "mMka0539wa2s",
        "outputId": "aa11c9d3-2054-4666-da45-5944f4470473"
      },
      "execution_count": 90,
      "outputs": [
        {
          "output_type": "execute_result",
          "data": {
            "text/plain": [
              "array(['Unintentional injuries', \"Alzheimer's disease\", 'Stroke', 'CLRD',\n",
              "       'Diabetes', 'Heart disease', 'Influenza and pneumonia', 'Suicide',\n",
              "       'Cancer', 'Kidney disease'], dtype=object)"
            ]
          },
          "metadata": {},
          "execution_count": 90
        }
      ]
    },
    {
      "cell_type": "code",
      "source": [
        "len(causes)"
      ],
      "metadata": {
        "colab": {
          "base_uri": "https://localhost:8080/"
        },
        "id": "DGwQ7sTIwsvm",
        "outputId": "1156fa98-ff68-4f0c-8802-060c5b6e7d30"
      },
      "execution_count": 91,
      "outputs": [
        {
          "output_type": "execute_result",
          "data": {
            "text/plain": [
              "10"
            ]
          },
          "metadata": {},
          "execution_count": 91
        }
      ]
    },
    {
      "cell_type": "code",
      "source": [
        "# data.sort_values(by=['Cause Name']).head(5)\n",
        "causer = data.groupby('Cause Name')['Deaths'].max().sort_values(ascending=False)\n",
        "causer"
      ],
      "metadata": {
        "colab": {
          "base_uri": "https://localhost:8080/"
        },
        "id": "PwVb82GZ8rED",
        "outputId": "dc124c12-2338-4bd6-a866-6f6e56022985"
      },
      "execution_count": 95,
      "outputs": [
        {
          "output_type": "execute_result",
          "data": {
            "text/plain": [
              "Cause Name\n",
              "Heart disease              71930\n",
              "Cancer                     59629\n",
              "Stroke                     18185\n",
              "Alzheimer's disease        16238\n",
              "CLRD                       13881\n",
              "Unintentional injuries     13840\n",
              "Diabetes                    9595\n",
              "Influenza and pneumonia     8324\n",
              "Suicide                     4312\n",
              "Kidney disease              4256\n",
              "Name: Deaths, dtype: int64"
            ]
          },
          "metadata": {},
          "execution_count": 95
        }
      ]
    },
    {
      "cell_type": "code",
      "source": [
        "death_data = pd.read_csv('NCHS.csv', index_col=0)\n",
        "death_data['Deaths'] = death_data['Deaths'].str.replace(',', '')\n",
        "death_data['Deaths'] = death_data['Deaths'].astype(int)\n",
        "death_data['Deaths'].sum()"
      ],
      "metadata": {
        "colab": {
          "base_uri": "https://localhost:8080/"
        },
        "id": "6LYBBSKT66yH",
        "outputId": "884a47f2-7b7d-43ff-9812-8251ca1a77b3"
      },
      "execution_count": 71,
      "outputs": [
        {
          "output_type": "execute_result",
          "data": {
            "text/plain": [
              "168018304"
            ]
          },
          "metadata": {},
          "execution_count": 71
        }
      ]
    },
    {
      "cell_type": "code",
      "source": [
        "state = data[\"State\"].unique()\n",
        "state"
      ],
      "metadata": {
        "colab": {
          "base_uri": "https://localhost:8080/"
        },
        "id": "mqzCprk0w4hj",
        "outputId": "ba9e65ca-0278-41ad-99c8-8d86bcd5c95b"
      },
      "execution_count": 72,
      "outputs": [
        {
          "output_type": "execute_result",
          "data": {
            "text/plain": [
              "array(['United States', 'Alabama', 'Alaska', 'Arizona', 'Arkansas',\n",
              "       'California', 'Colorado', 'Connecticut', 'Delaware',\n",
              "       'District of Columbia', 'Florida', 'Georgia', 'Hawaii', 'Idaho',\n",
              "       'Illinois', 'Indiana', 'Iowa', 'Kansas', 'Kentucky', 'Louisiana',\n",
              "       'Maine', 'Maryland', 'Massachusetts', 'Michigan', 'Minnesota',\n",
              "       'Mississippi', 'Missouri', 'Montana', 'Nebraska', 'Nevada',\n",
              "       'New Hampshire', 'New Jersey', 'New Mexico', 'New York',\n",
              "       'North Carolina', 'North Dakota', 'Ohio', 'Oklahoma', 'Oregon',\n",
              "       'Pennsylvania', 'Rhode Island', 'South Carolina', 'South Dakota',\n",
              "       'Tennessee', 'Texas', 'Utah', 'Vermont', 'Virginia', 'Washington',\n",
              "       'West Virginia', 'Wisconsin', 'Wyoming'], dtype=object)"
            ]
          },
          "metadata": {},
          "execution_count": 72
        }
      ]
    },
    {
      "cell_type": "code",
      "source": [
        "data = data[data['State'] != 'United States']\n",
        "states = data['State'].unique()\n",
        "states"
      ],
      "metadata": {
        "colab": {
          "base_uri": "https://localhost:8080/"
        },
        "id": "rtM5yS2mxALa",
        "outputId": "6fba8456-d7b4-472c-efa2-8284b93e9e7d"
      },
      "execution_count": 73,
      "outputs": [
        {
          "output_type": "execute_result",
          "data": {
            "text/plain": [
              "array(['Alabama', 'Alaska', 'Arizona', 'Arkansas', 'California',\n",
              "       'Colorado', 'Connecticut', 'Delaware', 'District of Columbia',\n",
              "       'Florida', 'Georgia', 'Hawaii', 'Idaho', 'Illinois', 'Indiana',\n",
              "       'Iowa', 'Kansas', 'Kentucky', 'Louisiana', 'Maine', 'Maryland',\n",
              "       'Massachusetts', 'Michigan', 'Minnesota', 'Mississippi',\n",
              "       'Missouri', 'Montana', 'Nebraska', 'Nevada', 'New Hampshire',\n",
              "       'New Jersey', 'New Mexico', 'New York', 'North Carolina',\n",
              "       'North Dakota', 'Ohio', 'Oklahoma', 'Oregon', 'Pennsylvania',\n",
              "       'Rhode Island', 'South Carolina', 'South Dakota', 'Tennessee',\n",
              "       'Texas', 'Utah', 'Vermont', 'Virginia', 'Washington',\n",
              "       'West Virginia', 'Wisconsin', 'Wyoming'], dtype=object)"
            ]
          },
          "metadata": {},
          "execution_count": 73
        }
      ]
    },
    {
      "cell_type": "code",
      "source": [
        "len(states)"
      ],
      "metadata": {
        "colab": {
          "base_uri": "https://localhost:8080/"
        },
        "id": "hOP9wfeixOh4",
        "outputId": "9c0f21f4-51d8-48ad-eab1-952c399ee894"
      },
      "execution_count": 74,
      "outputs": [
        {
          "output_type": "execute_result",
          "data": {
            "text/plain": [
              "51"
            ]
          },
          "metadata": {},
          "execution_count": 74
        }
      ]
    },
    {
      "cell_type": "code",
      "source": [
        "top = data.groupby('State')['Deaths'].max().sort_values(ascending=False)\n",
        "top"
      ],
      "metadata": {
        "colab": {
          "base_uri": "https://localhost:8080/"
        },
        "id": "BF3uu8FB0cFS",
        "outputId": "6fd7a801-c6f0-4d72-aac9-1ed74c8cbe25"
      },
      "execution_count": 98,
      "outputs": [
        {
          "output_type": "execute_result",
          "data": {
            "text/plain": [
              "State\n",
              "California              71930\n",
              "New York                58987\n",
              "Florida                 51434\n",
              "Texas                   45346\n",
              "Pennsylvania            41707\n",
              "Illinois                33387\n",
              "Ohio                    33192\n",
              "Michigan                27693\n",
              "New Jersey              23724\n",
              "North Carolina          19723\n",
              "Georgia                 18389\n",
              "Missouri                17974\n",
              "Indiana                 16661\n",
              "Tennessee               16280\n",
              "Massachusetts           15871\n",
              "Virginia                15329\n",
              "Wisconsin               13827\n",
              "Alabama                 13419\n",
              "Washington              12687\n",
              "Arizona                 12398\n",
              "Maryland                12348\n",
              "Kentucky                12098\n",
              "Louisiana               12007\n",
              "Oklahoma                11297\n",
              "South Carolina          10418\n",
              "Minnesota                9925\n",
              "Mississippi              9336\n",
              "Connecticut              9127\n",
              "Iowa                     8699\n",
              "Arkansas                 8330\n",
              "Oregon                   8093\n",
              "Colorado                 7928\n",
              "Kansas                   6975\n",
              "West Virginia            6822\n",
              "Nevada                   6457\n",
              "Nebraska                 4497\n",
              "New Mexico               3896\n",
              "Utah                     3749\n",
              "Maine                    3418\n",
              "Rhode Island             3115\n",
              "Idaho                    3084\n",
              "New Hampshire            2875\n",
              "Hawaii                   2605\n",
              "Montana                  2164\n",
              "Delaware                 2124\n",
              "South Dakota             2105\n",
              "North Dakota             1833\n",
              "District of Columbia     1761\n",
              "Vermont                  1438\n",
              "Wyoming                  1051\n",
              "Alaska                   1016\n",
              "Name: Deaths, dtype: int64"
            ]
          },
          "metadata": {},
          "execution_count": 98
        }
      ]
    },
    {
      "cell_type": "code",
      "source": [
        "years = data.groupby('Year')['Deaths'].max().sort_values(ascending=False)\n",
        "years"
      ],
      "metadata": {
        "colab": {
          "base_uri": "https://localhost:8080/"
        },
        "id": "S9h1wYRP_Q8t",
        "outputId": "40ac1a8d-c603-4b8d-ee8c-7c5b6a5ef3f4"
      },
      "execution_count": 96,
      "outputs": [
        {
          "output_type": "execute_result",
          "data": {
            "text/plain": [
              "Year\n",
              "1999    71930\n",
              "2003    68864\n",
              "2002    68797\n",
              "2000    68426\n",
              "2001    68234\n",
              "2004    64999\n",
              "2005    64916\n",
              "2006    64871\n",
              "2017    62797\n",
              "2007    61690\n",
              "2016    61573\n",
              "2015    61289\n",
              "2008    60709\n",
              "2013    60299\n",
              "2011    59772\n",
              "2012    59371\n",
              "2009    59206\n",
              "2010    58641\n",
              "2014    58412\n",
              "Name: Deaths, dtype: int64"
            ]
          },
          "metadata": {},
          "execution_count": 96
        }
      ]
    },
    {
      "cell_type": "code",
      "source": [],
      "metadata": {
        "id": "HbcTqUKU_VqF"
      },
      "execution_count": null,
      "outputs": []
    }
  ]
}